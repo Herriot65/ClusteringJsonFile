{
  "nbformat": 4,
  "nbformat_minor": 0,
  "metadata": {
    "colab": {
      "provenance": [],
      "gpuType": "T4",
      "authorship_tag": "ABX9TyMsKO5JJ8XjT9d+spaf1uWA",
      "include_colab_link": true
    },
    "kernelspec": {
      "name": "python3",
      "display_name": "Python 3"
    },
    "language_info": {
      "name": "python"
    },
    "accelerator": "GPU"
  },
  "cells": [
    {
      "cell_type": "markdown",
      "metadata": {
        "id": "view-in-github",
        "colab_type": "text"
      },
      "source": [
        "<a href=\"https://colab.research.google.com/github/Herriot65/ClusteringJsonFile/blob/main/Untitled11.ipynb\" target=\"_parent\"><img src=\"https://colab.research.google.com/assets/colab-badge.svg\" alt=\"Open In Colab\"/></a>"
      ]
    },
    {
      "cell_type": "code",
      "execution_count": null,
      "metadata": {
        "id": "BmLnWRWupJeQ"
      },
      "outputs": [],
      "source": [
        "!pip install gymnasium stable_baselines3 sb3_contrib"
      ]
    },
    {
      "cell_type": "code",
      "source": [
        "! python training/train_ppo.py"
      ],
      "metadata": {
        "id": "6chYEe4wpQDz"
      },
      "execution_count": null,
      "outputs": []
    }
  ]
}